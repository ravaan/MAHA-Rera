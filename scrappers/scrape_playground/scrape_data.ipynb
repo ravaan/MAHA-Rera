{
 "cells": [
  {
   "cell_type": "code",
   "execution_count": 4,
   "metadata": {},
   "outputs": [],
   "source": []
  },
  {
   "cell_type": "code",
   "execution_count": 13,
   "metadata": {},
   "outputs": [],
   "source": [
    "sp = s(open('dummy_first.html', 'r').read())"
   ]
  },
  {
   "cell_type": "code",
   "execution_count": 128,
   "metadata": {},
   "outputs": [],
   "source": [
    "\n",
    "# table_data = [[cell for cell in row(\"td\")] for row in tbl(\"tr\")][1:]\n",
    "# lst = []\n",
    "# for i in table_data:\n",
    "#     pfo = dict()\n",
    "#     pfo['proffesional_name'] = i[0].text.strip()\n",
    "#     pfo['cert_no'] = i[1].text.strip()\n",
    "#     try:\n",
    "#         pfo['cert_link'] = i[1]('a')[0]['href']\n",
    "#     except: pass\n",
    "#     if len(i) > 2:\n",
    "#         pfo['professional_type'] = i[2].text.strip()\n",
    "#     lst.append(pfo)"
   ]
  },
  {
   "cell_type": "code",
   "execution_count": 129,
   "metadata": {},
   "outputs": [
    {
     "data": {
      "text/plain": [
       "['https://maharerait.mahaonline.gov.in/PrintPreview/PrintPreview/UHJvamVjdElEPTAmRGl2aXNpb249NiZVc2VySUQ9Njc0MyZSb2xlSUQ9MiZBcHBJRD03OTImQWN0aW9uPVNlYXJjaEFnZW50JkNoYXJhY3RlckQ9OTcmRXh0QXBwSUQ9']"
      ]
     },
     "execution_count": 129,
     "metadata": {},
     "output_type": "execute_result"
    }
   ],
   "source": [
    "agent_links"
   ]
  },
  {
   "cell_type": "code",
   "execution_count": null,
   "metadata": {},
   "outputs": [],
   "source": []
  }
 ],
 "metadata": {
  "kernelspec": {
   "display_name": "Python 3",
   "language": "python",
   "name": "python3"
  },
  "language_info": {
   "codemirror_mode": {
    "name": "ipython",
    "version": 3
   },
   "file_extension": ".py",
   "mimetype": "text/x-python",
   "name": "python",
   "nbconvert_exporter": "python",
   "pygments_lexer": "ipython3",
   "version": "3.8.5"
  }
 },
 "nbformat": 4,
 "nbformat_minor": 4
}
